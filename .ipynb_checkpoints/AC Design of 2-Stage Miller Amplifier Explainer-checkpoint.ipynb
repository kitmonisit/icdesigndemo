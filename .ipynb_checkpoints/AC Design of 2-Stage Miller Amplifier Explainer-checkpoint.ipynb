{
 "cells": [
  {
   "cell_type": "code",
   "execution_count": null,
   "id": "5f5001b4",
   "metadata": {},
   "outputs": [],
   "source": [
    "%load_ext autoreload\n",
    "%autoreload 2\n",
    "\n",
    "import sympy as sp\n",
    "import acdesign"
   ]
  },
  {
   "cell_type": "code",
   "execution_count": null,
   "id": "6d59cc8e",
   "metadata": {},
   "outputs": [],
   "source": [
    "gm1, go1, CM, gm2, YL, s = sp.symbols(r\"g_{m1} g_{o1} C_M g_{m2} Y_L s\")\n",
    "ro1, RL, GL, CL = sp.symbols(r\"r_{o1} R_L G_L C_L\")\n",
    "w, f = sp.symbols(r'\\omega f')\n",
    "\n",
    "G_exact = sp.Matrix(\n",
    "    [\n",
    "        [0, 0, 0, 1],\n",
    "        [-gm1, go1 + s * CM, -s * CM, 0],\n",
    "        [0, gm2 - s * CM, YL + s * CM, 0],\n",
    "        [1, 0, 0, 0],\n",
    "    ]\n",
    ")\n",
    "\n",
    "amp_exact = acdesign.Amplifier(G_exact)\n",
    "amp_exact"
   ]
  },
  {
   "cell_type": "code",
   "execution_count": null,
   "id": "157c8888",
   "metadata": {},
   "outputs": [],
   "source": [
    "amp_exact.voltage_gain()"
   ]
  },
  {
   "cell_type": "code",
   "execution_count": null,
   "id": "7cc71bf7",
   "metadata": {},
   "outputs": [],
   "source": [
    "gm1, go1, CM, gm2, YL, s = sp.symbols(r\"g_{m1} g_{o1} C_M g_{m2} Y_L s\")\n",
    "ro1, RL, GL, CL = sp.symbols(r\"r_{o1} R_L G_L C_L\")\n",
    "w, f = sp.symbols(r'\\omega f')\n",
    "\n",
    "G_exact = sp.Matrix(\n",
    "    [\n",
    "        [0, 0, 0, 1],\n",
    "        [-gm1, go1 + s * CM, -s * CM, 0],\n",
    "        [0, gm2 - s * CM, YL + s * CM, 0],\n",
    "        [1, 0, 0, 0],\n",
    "    ]\n",
    ")\n",
    "\n",
    "I_vector = sp.Matrix([0, 0, 0, 1])\n",
    "\n",
    "V_vector = G_exact.inv()*I_vector"
   ]
  },
  {
   "cell_type": "markdown",
   "id": "de62f916",
   "metadata": {},
   "source": [
    "\\begin{align}\n",
    "\\begin{bmatrix}\n",
    "i_i \\\\\n",
    "i_x \\\\\n",
    "i_o \\\\\n",
    "v_s \n",
    "\\end{bmatrix}\n",
    "&=\n",
    "\\begin{bmatrix}\n",
    "      0 &             0 &        0 & 1 \\\\\n",
    "-g_{m1} & g_{o1} + sC_M &    -sC_M & 0 \\\\\n",
    "      0 & g_{m2} - sC_M & Y_L+sC_M & 0 \\\\\n",
    "      1 &             0 &        0 & 0\n",
    "\\end{bmatrix}\n",
    "\\begin{bmatrix}\n",
    "v_i \\\\\n",
    "v_x \\\\\n",
    "v_o \\\\\n",
    "i_s\n",
    "\\end{bmatrix}\n",
    "\\\\\n",
    "\\begin{bmatrix}\n",
    "0 \\\\\n",
    "0 \\\\\n",
    "0 \\\\\n",
    "1 \n",
    "\\end{bmatrix}\n",
    "&=\n",
    "\\begin{bmatrix}\n",
    "      0 &             0 &        0 & 1 \\\\\n",
    "-g_{m1} & g_{o1} + sC_M &    -sC_M & 0 \\\\\n",
    "      0 & g_{m2} - sC_M & Y_L+sC_M & 0 \\\\\n",
    "      1 &             0 &        0 & 0\n",
    "\\end{bmatrix}\n",
    "\\begin{bmatrix}\n",
    "v_i \\\\\n",
    "v_x \\\\\n",
    "v_o \\\\\n",
    "i_s\n",
    "\\end{bmatrix}\n",
    "\\\\\n",
    "\\vec{\\mathbf{s}} &= \\mathbf{G}\\vec{\\mathbf{r}}\\\\\n",
    "\\mathbf{G}^{-1} \\vec{\\mathbf{s}} &= \\vec{\\mathbf{r}}\n",
    "\\end{align}"
   ]
  },
  {
   "cell_type": "code",
   "execution_count": null,
   "id": "41762c01",
   "metadata": {},
   "outputs": [],
   "source": [
    "V_vector"
   ]
  },
  {
   "cell_type": "code",
   "execution_count": null,
   "id": "6602629e",
   "metadata": {},
   "outputs": [],
   "source": [
    "gain = V_vector[2]\n",
    "gain = gain.subs({\n",
    "    go1: 1/ro1,\n",
    "    YL: GL + s*CL\n",
    "})\n",
    "gain = gain.subs({\n",
    "    GL: 1/RL,\n",
    "    s: 2*sp.pi*f*1j\n",
    "})\n",
    "gain"
   ]
  },
  {
   "cell_type": "code",
   "execution_count": null,
   "id": "a55193d0",
   "metadata": {},
   "outputs": [],
   "source": [
    "import matplotlib.pyplot as plt\n",
    "import numpy as np\n",
    "\n",
    "fn = sp.lambdify(f, gain.subs({\n",
    "    CM: 5e-12,\n",
    "    ro1: 500e3,\n",
    "    RL: 2e3,\n",
    "    CL: 15e-12,\n",
    "    gm1: 10e-3,\n",
    "    gm2: 10e-3,\n",
    "}))"
   ]
  },
  {
   "cell_type": "code",
   "execution_count": null,
   "id": "bca991ca",
   "metadata": {},
   "outputs": [],
   "source": [
    "q = np.logspace(-3, 12, 100)\n",
    "mag = 20*np.log10(np.abs(fn(q)))\n",
    "pha = np.angle(fn(q), deg=True)"
   ]
  },
  {
   "cell_type": "code",
   "execution_count": null,
   "id": "c630ff02",
   "metadata": {},
   "outputs": [],
   "source": [
    "plt.plot(q, mag)\n",
    "plt.xscale('log')"
   ]
  },
  {
   "cell_type": "code",
   "execution_count": null,
   "id": "d4337aa7",
   "metadata": {},
   "outputs": [],
   "source": [
    "plt.plot(q, pha)\n",
    "plt.xscale('log')"
   ]
  },
  {
   "cell_type": "code",
   "execution_count": null,
   "id": "7d76356d",
   "metadata": {},
   "outputs": [],
   "source": []
  }
 ],
 "metadata": {
  "kernelspec": {
   "display_name": "Python 3",
   "language": "python",
   "name": "python3"
  },
  "language_info": {
   "codemirror_mode": {
    "name": "ipython",
    "version": 3
   },
   "file_extension": ".py",
   "mimetype": "text/x-python",
   "name": "python",
   "nbconvert_exporter": "python",
   "pygments_lexer": "ipython3",
   "version": "3.8.8"
  },
  "latex_envs": {
   "LaTeX_envs_menu_present": true,
   "autoclose": false,
   "autocomplete": true,
   "bibliofile": "biblio.bib",
   "cite_by": "apalike",
   "current_citInitial": 1,
   "eqLabelWithNumbers": true,
   "eqNumInitial": 1,
   "hotkeys": {
    "equation": "Ctrl-E",
    "itemize": "Ctrl-I"
   },
   "labels_anchors": false,
   "latex_user_defs": false,
   "report_style_numbering": false,
   "user_envs_cfg": false
  }
 },
 "nbformat": 4,
 "nbformat_minor": 5
}
