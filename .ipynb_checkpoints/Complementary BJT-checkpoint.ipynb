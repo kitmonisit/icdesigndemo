{
 "cells": [
  {
   "cell_type": "code",
   "execution_count": 1,
   "id": "4e2277a7",
   "metadata": {},
   "outputs": [],
   "source": [
    "import sympy as sp\n",
    "import numpy as np\n",
    "import matplotlib.pyplot as plt\n",
    "from matplotlib.ticker import EngFormatter"
   ]
  },
  {
   "cell_type": "code",
   "execution_count": 2,
   "id": "b5411001",
   "metadata": {},
   "outputs": [],
   "source": [
    "IB, Gm, ICn, ICp, Bn, Bp, VT = sp.symbols(r'I_B G_m I_{Cn} I_{Cp} \\beta_n \\beta_p V_T')"
   ]
  },
  {
   "cell_type": "markdown",
   "id": "1b9d8abc",
   "metadata": {},
   "source": [
    "$$\n",
    "I_B = \\frac{I_{Cn}}{\\beta_n} - \\frac{I_{Cp}}{\\beta_p}\\\\\n",
    "G_m = \\frac{I_{Cn}}{V_T} + \\frac{I_{Cp}}{V_T}\n",
    "$$"
   ]
  },
  {
   "cell_type": "code",
   "execution_count": 3,
   "id": "26da62c1",
   "metadata": {},
   "outputs": [
    {
     "data": {
      "text/latex": [
       "$\\displaystyle \\left[\\begin{matrix}\\frac{1}{\\beta_{n}} & - \\frac{1}{\\beta_{p}}\\\\\\frac{1}{V_{T}} & \\frac{1}{V_{T}}\\end{matrix}\\right]$"
      ],
      "text/plain": [
       "Matrix([\n",
       "[1/\\beta_n, -1/\\beta_p],\n",
       "[    1/V_T,      1/V_T]])"
      ]
     },
     "execution_count": 3,
     "metadata": {},
     "output_type": "execute_result"
    }
   ],
   "source": [
    "A = sp.Matrix([\n",
    "    [1/Bn, -1/Bp],\n",
    "    [1/VT, 1/VT]\n",
    "])\n",
    "A"
   ]
  },
  {
   "cell_type": "code",
   "execution_count": 4,
   "id": "f6722193",
   "metadata": {},
   "outputs": [
    {
     "data": {
      "text/latex": [
       "$\\displaystyle \\left[\\begin{matrix}I_{B}\\\\G_{m}\\end{matrix}\\right]$"
      ],
      "text/plain": [
       "Matrix([\n",
       "[I_B],\n",
       "[G_m]])"
      ]
     },
     "execution_count": 4,
     "metadata": {},
     "output_type": "execute_result"
    }
   ],
   "source": [
    "b = sp.Matrix([\n",
    "    IB,\n",
    "    Gm\n",
    "])\n",
    "b"
   ]
  },
  {
   "cell_type": "markdown",
   "id": "4a0dd28b",
   "metadata": {},
   "source": [
    "\\begin{align}\n",
    "\\begin{bmatrix}\n",
    "I_B \\\\\n",
    "G_m\n",
    "\\end{bmatrix}\n",
    "&=\n",
    "\\begin{bmatrix}\n",
    "\\frac{1}{\\beta_{n}} & - \\frac{1}{\\beta_{p}}\\\\\n",
    "\\frac{1}{V_{T}} & \\frac{1}{V_{T}}\n",
    "\\end{bmatrix}\n",
    "\\begin{bmatrix}\n",
    "I_{Cn} \\\\\n",
    "I_{Cp}\n",
    "\\end{bmatrix}\n",
    "\\end{align}"
   ]
  },
  {
   "cell_type": "code",
   "execution_count": 5,
   "id": "26d03a62",
   "metadata": {},
   "outputs": [
    {
     "data": {
      "text/latex": [
       "$\\displaystyle \\left[\\begin{matrix}\\frac{G_{m}}{\\frac{1}{V_{T}} + \\frac{\\beta_{p}}{V_{T} \\beta_{n}}} + \\frac{I_{B}}{\\frac{1}{\\beta_{p}} + \\frac{1}{\\beta_{n}}}\\\\\\frac{G_{m} V_{T} \\beta_{p}}{\\beta_{n} + \\beta_{p}} - \\frac{I_{B} \\beta_{n} \\beta_{p}}{\\beta_{n} + \\beta_{p}}\\end{matrix}\\right]$"
      ],
      "text/plain": [
       "Matrix([\n",
       "[            G_m/(1/V_T + \\beta_p/(V_T*\\beta_n)) + I_B/(1/\\beta_p + 1/\\beta_n)],\n",
       "[G_m*V_T*\\beta_p/(\\beta_n + \\beta_p) - I_B*\\beta_n*\\beta_p/(\\beta_n + \\beta_p)]])"
      ]
     },
     "execution_count": 5,
     "metadata": {},
     "output_type": "execute_result"
    }
   ],
   "source": [
    "x = A.inv()*b\n",
    "x"
   ]
  },
  {
   "cell_type": "code",
   "execution_count": 6,
   "id": "e8cce0cb",
   "metadata": {},
   "outputs": [
    {
     "data": {
      "text/latex": [
       "$\\displaystyle \\left[\\begin{matrix}\\frac{400 I_{B}}{9} + 2.88888888888889 \\cdot 10^{-5}\\\\2.31111111111111 \\cdot 10^{-5} - \\frac{400 I_{B}}{9}\\end{matrix}\\right]$"
      ],
      "text/plain": [
       "Matrix([\n",
       "[400*I_B/9 + 2.88888888888889e-5],\n",
       "[2.31111111111111e-5 - 400*I_B/9]])"
      ]
     },
     "execution_count": 6,
     "metadata": {},
     "output_type": "execute_result"
    }
   ],
   "source": [
    "X = x.subs({\n",
    "    Gm: 2e-3,\n",
    "    VT: 26e-3,\n",
    "    Bn: 100,\n",
    "    Bp: 80,\n",
    "})\n",
    "X"
   ]
  },
  {
   "cell_type": "code",
   "execution_count": 7,
   "id": "0cf2df4d",
   "metadata": {},
   "outputs": [],
   "source": [
    "fn = sp.lambdify(IB, X)\n",
    "ib_arr = np.linspace(-250e-9, 250e-9)\n",
    "collector_currents = fn(ib_arr)"
   ]
  },
  {
   "cell_type": "code",
   "execution_count": 8,
   "id": "0abdf819",
   "metadata": {},
   "outputs": [
    {
     "data": {
      "image/png": "[encoded data removed]",
      "text/plain": [
       "<Figure size 432x288 with 1 Axes>"
      ]
     },
     "metadata": {
      "needs_background": "light"
     },
     "output_type": "display_data"
    }
   ],
   "source": [
    "plt.plot(ib_arr, collector_currents[0][0], label='NPN')\n",
    "plt.plot(ib_arr, collector_currents[1][0], label='PNP')\n",
    "\n",
    "ax = plt.gca()\n",
    "ax.grid()\n",
    "ax.set_xlabel('Net base current')\n",
    "ax.set_ylabel('Collector current')\n",
    "ax.xaxis.set_major_formatter(EngFormatter(unit='A'))\n",
    "ax.yaxis.set_major_formatter(EngFormatter(unit='A'))\n",
    "ax.legend(loc='lower left');\n",
    "ax.set_title(r'$\\beta_n=100$'+'\\n'+r'$\\beta_p=80$'+'\\n'+r'$G_m=2\\mathrm{mS}$');"
   ]
  },
  {
   "cell_type": "code",
   "execution_count": null,
   "id": "c16b6f6d",
   "metadata": {},
   "outputs": [],
   "source": []
  }
 ],
 "metadata": {
  "kernelspec": {
   "display_name": "Python 3",
   "language": "python",
   "name": "python3"
  },
  "language_info": {
   "codemirror_mode": {
    "name": "ipython",
    "version": 3
   },
   "file_extension": ".py",
   "mimetype": "text/x-python",
   "name": "python",
   "nbconvert_exporter": "python",
   "pygments_lexer": "ipython3",
   "version": "3.8.8"
  },
  "latex_envs": {
   "LaTeX_envs_menu_present": true,
   "autoclose": false,
   "autocomplete": true,
   "bibliofile": "biblio.bib",
   "cite_by": "apalike",
   "current_citInitial": 1,
   "eqLabelWithNumbers": true,
   "eqNumInitial": 1,
   "hotkeys": {
    "equation": "Ctrl-E",
    "itemize": "Ctrl-I"
   },
   "labels_anchors": false,
   "latex_user_defs": false,
   "report_style_numbering": false,
   "user_envs_cfg": false
  }
 },
 "nbformat": 4,
 "nbformat_minor": 5
}
