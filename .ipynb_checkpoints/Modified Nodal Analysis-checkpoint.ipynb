{
 "cells": [
  {
   "cell_type": "code",
   "execution_count": 1,
   "id": "bd36c92d",
   "metadata": {},
   "outputs": [],
   "source": [
    "import sympy as sp"
   ]
  },
  {
   "cell_type": "code",
   "execution_count": 2,
   "id": "95bcc9cc",
   "metadata": {},
   "outputs": [],
   "source": [
    "A, G1, G2, gm, CL, s = sp.symbols('A G_1 G_2 g_m C_L s')\n",
    "R1, R2 = sp.symbols('R_1 R_2')"
   ]
  },
  {
   "cell_type": "code",
   "execution_count": 13,
   "id": "dba0e8f0",
   "metadata": {},
   "outputs": [],
   "source": [
    "Y = sp.Matrix([\n",
    "    [G1+G2, -G1],\n",
    "    [A*gm-G1, G1],\n",
    "])"
   ]
  },
  {
   "cell_type": "code",
   "execution_count": 14,
   "id": "9c6f5b60",
   "metadata": {},
   "outputs": [
    {
     "data": {
      "text/latex": [
       "$\\displaystyle \\left[\\begin{matrix}0\\\\-1\\end{matrix}\\right]$"
      ],
      "text/plain": [
       "Matrix([\n",
       "[ 0],\n",
       "[-1]])"
      ]
     },
     "execution_count": 14,
     "metadata": {},
     "output_type": "execute_result"
    }
   ],
   "source": [
    "I = sp.Matrix([0,-1])\n",
    "I"
   ]
  },
  {
   "cell_type": "code",
   "execution_count": 15,
   "id": "024eae19",
   "metadata": {},
   "outputs": [
    {
     "data": {
      "text/latex": [
       "$\\displaystyle \\left[\\begin{matrix}- \\frac{R_{2}}{A R_{2} g_{m} + 1}\\\\- \\frac{R_{1} + R_{2}}{A R_{2} g_{m} + 1}\\end{matrix}\\right]$"
      ],
      "text/plain": [
       "Matrix([\n",
       "[        -R_2/(A*R_2*g_m + 1)],\n",
       "[-(R_1 + R_2)/(A*R_2*g_m + 1)]])"
      ]
     },
     "execution_count": 15,
     "metadata": {},
     "output_type": "execute_result"
    }
   ],
   "source": [
    "V = Y.inv()*I\n",
    "V = V.subs({\n",
    "    G1: 1/R1,\n",
    "    G2: 1/R2,\n",
    "})\n",
    "V = sp.simplify(V)\n",
    "V"
   ]
  },
  {
   "cell_type": "code",
   "execution_count": null,
   "id": "7a851ae8",
   "metadata": {},
   "outputs": [],
   "source": []
  }
 ],
 "metadata": {
  "kernelspec": {
   "display_name": "Python 3",
   "language": "python",
   "name": "python3"
  },
  "language_info": {
   "codemirror_mode": {
    "name": "ipython",
    "version": 3
   },
   "file_extension": ".py",
   "mimetype": "text/x-python",
   "name": "python",
   "nbconvert_exporter": "python",
   "pygments_lexer": "ipython3",
   "version": "3.8.8"
  }
 },
 "nbformat": 4,
 "nbformat_minor": 5
}
