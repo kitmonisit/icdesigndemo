{
 "cells": [
  {
   "cell_type": "code",
   "execution_count": 1,
   "id": "4ed34914",
   "metadata": {},
   "outputs": [],
   "source": [
    "%load_ext autoreload\n",
    "%autoreload 2\n",
    "\n",
    "import spice3read as sr\n",
    "import matplotlib.pyplot as plt\n",
    "from scipy.interpolate import interp1d\n",
    "\n",
    "plt.rcParams.update({\n",
    "    'text.usetex': False,\n",
    "    'axes.labelsize': 16,\n",
    "    'axes.titlesize': 16,\n",
    "})"
   ]
  },
  {
   "cell_type": "code",
   "execution_count": 2,
   "id": "fd1b940d",
   "metadata": {},
   "outputs": [
    {
     "data": {
      "text/plain": [
       "odict_keys(['v(v-sweep)', 'i(id)', 'gm'])"
      ]
     },
     "execution_count": 2,
     "metadata": {},
     "output_type": "execute_result"
    }
   ],
   "source": [
    "q = sr.read('sizing.dat')\n",
    "q.keys()"
   ]
  },
  {
   "cell_type": "code",
   "execution_count": 3,
   "id": "16d8e984",
   "metadata": {},
   "outputs": [
    {
     "data": {
      "text/plain": [
       "array([[1.000e-03, 2.000e-03, 3.000e-03, ..., 1.998e+00, 1.999e+00,\n",
       "        2.000e+00]])"
      ]
     },
     "execution_count": 3,
     "metadata": {},
     "output_type": "execute_result"
    }
   ],
   "source": [
    "q['v(v-sweep)']"
   ]
  },
  {
   "cell_type": "code",
   "execution_count": 4,
   "id": "61a05925",
   "metadata": {},
   "outputs": [],
   "source": [
    "idd = q['i(id)'][0]\n",
    "gm = q['gm'][0]\n",
    "vstar = 2 * idd / gm"
   ]
  },
  {
   "cell_type": "code",
   "execution_count": 5,
   "id": "f9c499f6",
   "metadata": {},
   "outputs": [
    {
     "data": {
      "text/plain": [
       "array(0.14233162)"
      ]
     },
     "execution_count": 5,
     "metadata": {},
     "output_type": "execute_result"
    }
   ],
   "source": [
    "q = interp1d(\n",
    "    x=vstar,\n",
    "    y=idd,\n",
    ")\n",
    "q(0.25)"
   ]
  },
  {
   "cell_type": "code",
   "execution_count": 6,
   "id": "078bc61d",
   "metadata": {},
   "outputs": [
    {
     "data": {
      "text/plain": [
       "Text(0, 0.5, '$I_D$')"
      ]
     },
     "execution_count": 6,
     "metadata": {},
     "output_type": "execute_result"
    },
    {
     "data": {
      "image/png": "[encoded data removed]",
      "text/plain": [
       "<Figure size 432x288 with 1 Axes>"
      ]
     },
     "metadata": {
      "needs_background": "light"
     },
     "output_type": "display_data"
    }
   ],
   "source": [
    "plt.plot(\n",
    "    vstar,\n",
    "    idd\n",
    ");\n",
    "plt.plot(\n",
    "    0.25,\n",
    "    q(0.25),\n",
    "    marker='o'\n",
    ")\n",
    "plt.grid()\n",
    "plt.xlabel(r'$V^*=\\frac{2I_D}{g_m}$')\n",
    "plt.ylabel(r'$I_D$')"
   ]
  },
  {
   "cell_type": "code",
   "execution_count": null,
   "id": "6b95ab70",
   "metadata": {},
   "outputs": [],
   "source": [
    "plt.plot(\n",
    "    vstar,\n",
    "    gm / idd\n",
    ")\n",
    "plt.grid()"
   ]
  },
  {
   "cell_type": "code",
   "execution_count": null,
   "id": "998aaeba",
   "metadata": {},
   "outputs": [],
   "source": [
    "plt.plot(\n",
    "    idd,\n",
    "    gm / idd\n",
    ")\n",
    "plt.xscale('log')\n",
    "plt.grid()"
   ]
  }
 ],
 "metadata": {
  "kernelspec": {
   "display_name": "Python 3",
   "language": "python",
   "name": "python3"
  },
  "language_info": {
   "codemirror_mode": {
    "name": "ipython",
    "version": 3
   },
   "file_extension": ".py",
   "mimetype": "text/x-python",
   "name": "python",
   "nbconvert_exporter": "python",
   "pygments_lexer": "ipython3",
   "version": "3.8.8"
  }
 },
 "nbformat": 4,
 "nbformat_minor": 5
}
