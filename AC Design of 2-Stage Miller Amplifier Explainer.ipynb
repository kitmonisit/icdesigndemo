{
 "cells": [
  {
   "cell_type": "code",
   "execution_count": 1,
   "id": "2a4712c0",
   "metadata": {},
   "outputs": [],
   "source": [
    "%load_ext autoreload\n",
    "%autoreload 2\n",
    "\n",
    "import sympy as sp"
   ]
  },
  {
   "cell_type": "code",
   "execution_count": 2,
   "id": "b50ce458",
   "metadata": {},
   "outputs": [],
   "source": [
    "gm1, go1, CM, gm2, YL, s = sp.symbols(r\"g_{m1} g_{o1} C_M g_{m2} Y_L s\")\n",
    "ro1, RL, GL, CL = sp.symbols(r\"r_{o1} R_L G_L C_L\")\n",
    "w, f = sp.symbols(r'\\omega f')\n",
    "\n",
    "G_exact = sp.Matrix(\n",
    "    [\n",
    "        [0, 0, 0, 1],\n",
    "        [-gm1, go1 + s * CM, -s * CM, 0],\n",
    "        [0, gm2 - s * CM, YL + s * CM, 0],\n",
    "        [1, 0, 0, 0],\n",
    "    ]\n",
    ")\n"
   ]
  },
  {
   "cell_type": "markdown",
   "id": "501986c0",
   "metadata": {},
   "source": [
    "\\begin{align}\n",
    "\\begin{bmatrix}\n",
    "i_i \\\\\n",
    "i_x \\\\\n",
    "i_o \\\\\n",
    "v_s \n",
    "\\end{bmatrix}\n",
    "&=\n",
    "\\begin{bmatrix}\n",
    "      0 &             0 &        0 & 1 \\\\\n",
    "-g_{m1} & g_{o1} + sC_M &    -sC_M & 0 \\\\\n",
    "      0 & g_{m2} - sC_M & Y_L+sC_M & 0 \\\\\n",
    "      1 &             0 &        0 & 0\n",
    "\\end{bmatrix}\n",
    "\\begin{bmatrix}\n",
    "v_i \\\\\n",
    "v_x \\\\\n",
    "v_o \\\\\n",
    "i_s\n",
    "\\end{bmatrix}\n",
    "\\\\\n",
    "\\begin{bmatrix}\n",
    "0 \\\\\n",
    "0 \\\\\n",
    "0 \\\\\n",
    "1 \n",
    "\\end{bmatrix}\n",
    "&=\n",
    "\\begin{bmatrix}\n",
    "      0 &             0 &        0 & 1 \\\\\n",
    "-g_{m1} & g_{o1} + sC_M &    -sC_M & 0 \\\\\n",
    "      0 & g_{m2} - sC_M & Y_L+sC_M & 0 \\\\\n",
    "      1 &             0 &        0 & 0\n",
    "\\end{bmatrix}\n",
    "\\begin{bmatrix}\n",
    "v_i \\\\\n",
    "v_x \\\\\n",
    "v_o \\\\\n",
    "i_s\n",
    "\\end{bmatrix}\n",
    "\\\\\n",
    "\\vec{\\mathbf{s}} &= \\mathbf{G}\\vec{\\mathbf{r}}\\\\\n",
    "\\mathbf{G}^{-1} \\vec{\\mathbf{s}} &= \\vec{\\mathbf{r}}\n",
    "\\end{align}"
   ]
  },
  {
   "cell_type": "code",
   "execution_count": 3,
   "id": "4ed2ce3e",
   "metadata": {},
   "outputs": [
    {
     "data": {
      "text/latex": [
       "$\\displaystyle \\left[\\begin{matrix}1\\\\\\frac{C_{M} g_{m1} s + Y_{L} g_{m1}}{C_{M} Y_{L} s + C_{M} g_{m2} s + C_{M} g_{o1} s + Y_{L} g_{o1}}\\\\\\frac{C_{M} g_{m1} s - g_{m1} g_{m2}}{C_{M} Y_{L} s + C_{M} g_{m2} s + C_{M} g_{o1} s + Y_{L} g_{o1}}\\\\0\\end{matrix}\\right]$"
      ],
      "text/plain": [
       "Matrix([\n",
       "[                                                                                    1],\n",
       "[   (C_M*g_{m1}*s + Y_L*g_{m1})/(C_M*Y_L*s + C_M*g_{m2}*s + C_M*g_{o1}*s + Y_L*g_{o1})],\n",
       "[(C_M*g_{m1}*s - g_{m1}*g_{m2})/(C_M*Y_L*s + C_M*g_{m2}*s + C_M*g_{o1}*s + Y_L*g_{o1})],\n",
       "[                                                                                    0]])"
      ]
     },
     "execution_count": 3,
     "metadata": {},
     "output_type": "execute_result"
    }
   ],
   "source": [
    "S_vector = sp.Matrix([0, 0, 0, 1])\n",
    "R_vector = G_exact.inv()*S_vector\n",
    "R_vector"
   ]
  },
  {
   "cell_type": "code",
   "execution_count": 4,
   "id": "690579a8",
   "metadata": {},
   "outputs": [
    {
     "data": {
      "text/latex": [
       "$\\displaystyle \\frac{2.0 i \\pi C_{M} f g_{m1} - g_{m1} g_{m2}}{2.0 i \\pi C_{M} f g_{m2} + 2.0 i \\pi C_{M} f \\left(2.0 i \\pi C_{L} f + \\frac{1}{R_{L}}\\right) + \\frac{2.0 i \\pi C_{M} f}{r_{o1}} + \\frac{2.0 i \\pi C_{L} f + \\frac{1}{R_{L}}}{r_{o1}}}$"
      ],
      "text/plain": [
       "(2.0*I*pi*C_M*f*g_{m1} - g_{m1}*g_{m2})/(2.0*I*pi*C_M*f*g_{m2} + 2.0*I*pi*C_M*f*(2.0*I*pi*C_L*f + 1/R_L) + 2.0*I*pi*C_M*f/r_{o1} + (2.0*I*pi*C_L*f + 1/R_L)/r_{o1})"
      ]
     },
     "execution_count": 4,
     "metadata": {},
     "output_type": "execute_result"
    }
   ],
   "source": [
    "gain = R_vector[2]\n",
    "gain = gain.subs({\n",
    "    go1: 1/ro1,\n",
    "    YL: GL + s*CL\n",
    "})\n",
    "gain = gain.subs({\n",
    "    GL: 1/RL,\n",
    "    s: 2*sp.pi*f*1j\n",
    "})\n",
    "gain"
   ]
  },
  {
   "cell_type": "code",
   "execution_count": 5,
   "id": "46cddfcc",
   "metadata": {},
   "outputs": [],
   "source": [
    "import matplotlib.pyplot as plt\n",
    "import numpy as np\n",
    "\n",
    "fn = sp.lambdify(f, gain.subs({\n",
    "    CM: 5e-12,\n",
    "    ro1: 500e3,\n",
    "    RL: 2e3,\n",
    "    CL: 15e-12,\n",
    "    gm1: 10e-3,\n",
    "    gm2: 10e-3,\n",
    "}))"
   ]
  },
  {
   "cell_type": "code",
   "execution_count": 6,
   "id": "398dcd0e",
   "metadata": {},
   "outputs": [],
   "source": [
    "q = np.logspace(-3, 12, 100)\n",
    "mag = 20*np.log10(np.abs(fn(q)))\n",
    "pha = np.angle(fn(q), deg=True)"
   ]
  },
  {
   "cell_type": "code",
   "execution_count": 8,
   "id": "d20eb71f",
   "metadata": {},
   "outputs": [
    {
     "data": {
      "image/png": "[encoded data removed]",
      "text/plain": [
       "<Figure size 432x288 with 2 Axes>"
      ]
     },
     "metadata": {
      "needs_background": "light"
     },
     "output_type": "display_data"
    }
   ],
   "source": [
    "fig = plt.figure()\n",
    "\n",
    "ax = fig.add_subplot(2, 1, 1)\n",
    "ax.plot(q, mag)\n",
    "\n",
    "ax = fig.add_subplot(2, 1, 2, sharex=ax)\n",
    "ax.plot(q, pha)\n",
    "ax.set_xscale('log')"
   ]
  }
 ],
 "metadata": {
  "kernelspec": {
   "display_name": "Python 3",
   "language": "python",
   "name": "python3"
  },
  "language_info": {
   "codemirror_mode": {
    "name": "ipython",
    "version": 3
   },
   "file_extension": ".py",
   "mimetype": "text/x-python",
   "name": "python",
   "nbconvert_exporter": "python",
   "pygments_lexer": "ipython3",
   "version": "3.8.8"
  },
  "latex_envs": {
   "LaTeX_envs_menu_present": true,
   "autoclose": false,
   "autocomplete": true,
   "bibliofile": "biblio.bib",
   "cite_by": "apalike",
   "current_citInitial": 1,
   "eqLabelWithNumbers": true,
   "eqNumInitial": 1,
   "hotkeys": {
    "equation": "Ctrl-E",
    "itemize": "Ctrl-I"
   },
   "labels_anchors": false,
   "latex_user_defs": false,
   "report_style_numbering": false,
   "user_envs_cfg": false
  }
 },
 "nbformat": 4,
 "nbformat_minor": 5
}
